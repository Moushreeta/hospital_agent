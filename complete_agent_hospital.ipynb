{
  "cells": [
    {
      "cell_type": "code",
      "execution_count": null,
      "metadata": {
        "colab": {
          "base_uri": "https://localhost:8080/"
        },
        "id": "iIzV42rPTJdL",
        "outputId": "cab5338c-aac4-4b58-f8e7-fca7bb163124"
      },
      "outputs": [
        {
          "name": "stdout",
          "output_type": "stream",
          "text": [
            "\u001b[2K     \u001b[90m━━━━━━━━━━━━━━━━━━━━━━━━━━━━━━━━━━━━━━━━\u001b[0m \u001b[32m814.5/814.5 kB\u001b[0m \u001b[31m9.3 MB/s\u001b[0m eta \u001b[36m0:00:00\u001b[0m\n",
            "\u001b[2K     \u001b[90m━━━━━━━━━━━━━━━━━━━━━━━━━━━━━━━━━━━━━━━━\u001b[0m \u001b[32m1.8/1.8 MB\u001b[0m \u001b[31m18.0 MB/s\u001b[0m eta \u001b[36m0:00:00\u001b[0m\n",
            "\u001b[2K     \u001b[90m━━━━━━━━━━━━━━━━━━━━━━━━━━━━━━━━━━━━━━━━\u001b[0m \u001b[32m1.9/1.9 MB\u001b[0m \u001b[31m25.0 MB/s\u001b[0m eta \u001b[36m0:00:00\u001b[0m\n",
            "\u001b[2K     \u001b[90m━━━━━━━━━━━━━━━━━━━━━━━━━━━━━━━━━━━━━━━━\u001b[0m \u001b[32m278.4/278.4 kB\u001b[0m \u001b[31m24.0 MB/s\u001b[0m eta \u001b[36m0:00:00\u001b[0m\n",
            "\u001b[2K     \u001b[90m━━━━━━━━━━━━━━━━━━━━━━━━━━━━━━━━━━━━━━━━\u001b[0m \u001b[32m101.7/101.7 kB\u001b[0m \u001b[31m8.4 MB/s\u001b[0m eta \u001b[36m0:00:00\u001b[0m\n",
            "\u001b[2K     \u001b[90m━━━━━━━━━━━━━━━━━━━━━━━━━━━━━━━━━━━━━━━━\u001b[0m \u001b[32m5.7/5.7 MB\u001b[0m \u001b[31m37.9 MB/s\u001b[0m eta \u001b[36m0:00:00\u001b[0m\n",
            "\u001b[2K     \u001b[90m━━━━━━━━━━━━━━━━━━━━━━━━━━━━━━━━━━━━━━━━\u001b[0m \u001b[32m144.8/144.8 kB\u001b[0m \u001b[31m16.7 MB/s\u001b[0m eta \u001b[36m0:00:00\u001b[0m\n",
            "\u001b[2K     \u001b[90m━━━━━━━━━━━━━━━━━━━━━━━━━━━━━━━━━━━━━━━━\u001b[0m \u001b[32m49.4/49.4 kB\u001b[0m \u001b[31m6.4 MB/s\u001b[0m eta \u001b[36m0:00:00\u001b[0m\n",
            "\u001b[2K     \u001b[90m━━━━━━━━━━━━━━━━━━━━━━━━━━━━━━━━━━━━━━━━\u001b[0m \u001b[32m53.0/53.0 kB\u001b[0m \u001b[31m6.6 MB/s\u001b[0m eta \u001b[36m0:00:00\u001b[0m\n",
            "\u001b[?25h"
          ]
        }
      ],
      "source": [
        "!pip -q install langchain tiktoken duckduckgo-search\n"
      ]
    },
    {
      "cell_type": "code",
      "execution_count": null,
      "metadata": {
        "colab": {
          "base_uri": "https://localhost:8080/"
        },
        "id": "u08T_H3aTKAr",
        "outputId": "5af3330e-9191-452c-ac32-390d231413ff"
      },
      "outputs": [
        {
          "name": "stdout",
          "output_type": "stream",
          "text": [
            "Name: langchain\n",
            "Version: 0.1.15\n",
            "Summary: Building applications with LLMs through composability\n",
            "Home-page: https://github.com/langchain-ai/langchain\n",
            "Author: \n",
            "Author-email: \n",
            "License: MIT\n",
            "Location: /usr/local/lib/python3.10/dist-packages\n",
            "Requires: aiohttp, async-timeout, dataclasses-json, jsonpatch, langchain-community, langchain-core, langchain-text-splitters, langsmith, numpy, pydantic, PyYAML, requests, SQLAlchemy, tenacity\n",
            "Required-by: \n"
          ]
        }
      ],
      "source": [
        "!pip show langchain"
      ]
    },
    {
      "cell_type": "code",
      "execution_count": null,
      "metadata": {
        "id": "AZt8jTmvTLXU"
      },
      "outputs": [],
      "source": [
        "from langchain.agents import Tool, AgentExecutor, LLMSingleActionAgent, AgentOutputParser\n",
        "from langchain.prompts import StringPromptTemplate\n",
        "\n",
        "from langchain import OpenAI, LLMChain\n",
        "from langchain.tools import DuckDuckGoSearchRun\n",
        "\n",
        "from typing import List, Union\n",
        "from langchain.schema import AgentAction, AgentFinish\n",
        "import re\n",
        "import langchain"
      ]
    },
    {
      "cell_type": "code",
      "execution_count": null,
      "metadata": {
        "colab": {
          "base_uri": "https://localhost:8080/"
        },
        "id": "LO_RzPYcTM03",
        "outputId": "19188332-17f1-4195-9b35-24760ec70353"
      },
      "outputs": [
        {
          "name": "stdout",
          "output_type": "stream",
          "text": [
            "  Preparing metadata (setup.py) ... \u001b[?25l\u001b[?25hdone\n",
            "  Building wheel for google-search-results (setup.py) ... \u001b[?25l\u001b[?25hdone\n"
          ]
        }
      ],
      "source": [
        "!pip install -q google-api-python-client\n",
        "!pip install -q google-search-results"
      ]
    },
    {
      "cell_type": "code",
      "execution_count": null,
      "metadata": {
        "id": "PiWkYeqvTOso"
      },
      "outputs": [],
      "source": [
        "\n",
        "from langchain import PromptTemplate\n",
        "from langchain.llms import openai\n",
        "from langchain.chains import LLMChain,SequentialChain\n",
        "from langchain.agents import load_tools ,initialize_agent"
      ]
    },
    {
      "cell_type": "code",
      "execution_count": null,
      "metadata": {
        "id": "KQBh3R0uTQTm"
      },
      "outputs": [],
      "source": [
        "import os\n",
        "os.environ[\"GOOGLE_CSE_ID\"] = \" \"\n",
        "os.environ[\"GOOGLE_API_KEY\"] = \" \""
      ]
    },
    {
      "cell_type": "code",
      "execution_count": null,
      "metadata": {
        "id": "JuhTbTEPTR7d"
      },
      "outputs": [],
      "source": [
        "from langchain.llms import openai"
      ]
    },
    {
      "cell_type": "code",
      "execution_count": null,
      "metadata": {
        "colab": {
          "base_uri": "https://localhost:8080/"
        },
        "id": "6w9QPl1GTTTA",
        "outputId": "02b68f1c-b8b9-4bff-fb9c-c03f9bdf9b03"
      },
      "outputs": [
        {
          "name": "stdout",
          "output_type": "stream",
          "text": [
            "Collecting openai\n",
            "  Downloading openai-1.16.2-py3-none-any.whl (267 kB)\n",
            "\u001b[?25l     \u001b[90m━━━━━━━━━━━━━━━━━━━━━━━━━━━━━━━━━━━━━━━━\u001b[0m \u001b[32m0.0/267.1 kB\u001b[0m \u001b[31m?\u001b[0m eta \u001b[36m-:--:--\u001b[0m\r\u001b[2K     \u001b[91m━━━━━━━━━━━━━━━━━━━━━━━━━━━━━━━━━\u001b[0m\u001b[91m╸\u001b[0m\u001b[90m━━━━━━\u001b[0m \u001b[32m225.3/267.1 kB\u001b[0m \u001b[31m6.8 MB/s\u001b[0m eta \u001b[36m0:00:01\u001b[0m\r\u001b[2K     \u001b[90m━━━━━━━━━━━━━━━━━━━━━━━━━━━━━━━━━━━━━━━━\u001b[0m \u001b[32m267.1/267.1 kB\u001b[0m \u001b[31m5.4 MB/s\u001b[0m eta \u001b[36m0:00:00\u001b[0m\n",
            "\u001b[?25hRequirement already satisfied: anyio<5,>=3.5.0 in /usr/local/lib/python3.10/dist-packages (from openai) (3.7.1)\n",
            "Requirement already satisfied: distro<2,>=1.7.0 in /usr/lib/python3/dist-packages (from openai) (1.7.0)\n",
            "Collecting httpx<1,>=0.23.0 (from openai)\n",
            "  Downloading httpx-0.27.0-py3-none-any.whl (75 kB)\n",
            "\u001b[2K     \u001b[90m━━━━━━━━━━━━━━━━━━━━━━━━━━━━━━━━━━━━━━━━\u001b[0m \u001b[32m75.6/75.6 kB\u001b[0m \u001b[31m5.3 MB/s\u001b[0m eta \u001b[36m0:00:00\u001b[0m\n",
            "\u001b[?25hRequirement already satisfied: pydantic<3,>=1.9.0 in /usr/local/lib/python3.10/dist-packages (from openai) (2.6.4)\n",
            "Requirement already satisfied: sniffio in /usr/local/lib/python3.10/dist-packages (from openai) (1.3.1)\n",
            "Requirement already satisfied: tqdm>4 in /usr/local/lib/python3.10/dist-packages (from openai) (4.66.2)\n",
            "Requirement already satisfied: typing-extensions<5,>=4.7 in /usr/local/lib/python3.10/dist-packages (from openai) (4.10.0)\n",
            "Requirement already satisfied: idna>=2.8 in /usr/local/lib/python3.10/dist-packages (from anyio<5,>=3.5.0->openai) (3.6)\n",
            "Requirement already satisfied: exceptiongroup in /usr/local/lib/python3.10/dist-packages (from anyio<5,>=3.5.0->openai) (1.2.0)\n",
            "Requirement already satisfied: certifi in /usr/local/lib/python3.10/dist-packages (from httpx<1,>=0.23.0->openai) (2024.2.2)\n",
            "Collecting httpcore==1.* (from httpx<1,>=0.23.0->openai)\n",
            "  Downloading httpcore-1.0.5-py3-none-any.whl (77 kB)\n",
            "\u001b[2K     \u001b[90m━━━━━━━━━━━━━━━━━━━━━━━━━━━━━━━━━━━━━━━━\u001b[0m \u001b[32m77.9/77.9 kB\u001b[0m \u001b[31m8.0 MB/s\u001b[0m eta \u001b[36m0:00:00\u001b[0m\n",
            "\u001b[?25hCollecting h11<0.15,>=0.13 (from httpcore==1.*->httpx<1,>=0.23.0->openai)\n",
            "  Downloading h11-0.14.0-py3-none-any.whl (58 kB)\n",
            "\u001b[2K     \u001b[90m━━━━━━━━━━━━━━━━━━━━━━━━━━━━━━━━━━━━━━━━\u001b[0m \u001b[32m58.3/58.3 kB\u001b[0m \u001b[31m5.5 MB/s\u001b[0m eta \u001b[36m0:00:00\u001b[0m\n",
            "\u001b[?25hRequirement already satisfied: annotated-types>=0.4.0 in /usr/local/lib/python3.10/dist-packages (from pydantic<3,>=1.9.0->openai) (0.6.0)\n",
            "Requirement already satisfied: pydantic-core==2.16.3 in /usr/local/lib/python3.10/dist-packages (from pydantic<3,>=1.9.0->openai) (2.16.3)\n",
            "Installing collected packages: h11, httpcore, httpx, openai\n",
            "Successfully installed h11-0.14.0 httpcore-1.0.5 httpx-0.27.0 openai-1.16.2\n"
          ]
        }
      ],
      "source": [
        "pip install openai\n"
      ]
    },
    {
      "cell_type": "code",
      "execution_count": null,
      "metadata": {
        "id": "Pup3mp-_TUiE"
      },
      "outputs": [],
      "source": [
        "import os\n",
        "\n",
        "os.environ[\"OPENAI_API_KEY\"] = \" \""
      ]
    },
    {
      "cell_type": "code",
      "execution_count": null,
      "metadata": {
        "colab": {
          "base_uri": "https://localhost:8080/"
        },
        "id": "_7x-GLDOGPqu",
        "outputId": "84a40877-e0dd-42aa-ed64-f5d073c45cf1"
      },
      "outputs": [
        {
          "name": "stdout",
          "output_type": "stream",
          "text": [
            "Requirement already satisfied: langsmith in /usr/local/lib/python3.10/dist-packages (0.1.40)\n",
            "Requirement already satisfied: orjson<4.0.0,>=3.9.14 in /usr/local/lib/python3.10/dist-packages (from langsmith) (3.10.0)\n",
            "Requirement already satisfied: pydantic<3,>=1 in /usr/local/lib/python3.10/dist-packages (from langsmith) (2.6.4)\n",
            "Requirement already satisfied: requests<3,>=2 in /usr/local/lib/python3.10/dist-packages (from langsmith) (2.31.0)\n",
            "Requirement already satisfied: annotated-types>=0.4.0 in /usr/local/lib/python3.10/dist-packages (from pydantic<3,>=1->langsmith) (0.6.0)\n",
            "Requirement already satisfied: pydantic-core==2.16.3 in /usr/local/lib/python3.10/dist-packages (from pydantic<3,>=1->langsmith) (2.16.3)\n",
            "Requirement already satisfied: typing-extensions>=4.6.1 in /usr/local/lib/python3.10/dist-packages (from pydantic<3,>=1->langsmith) (4.10.0)\n",
            "Requirement already satisfied: charset-normalizer<4,>=2 in /usr/local/lib/python3.10/dist-packages (from requests<3,>=2->langsmith) (3.3.2)\n",
            "Requirement already satisfied: idna<4,>=2.5 in /usr/local/lib/python3.10/dist-packages (from requests<3,>=2->langsmith) (3.6)\n",
            "Requirement already satisfied: urllib3<3,>=1.21.1 in /usr/local/lib/python3.10/dist-packages (from requests<3,>=2->langsmith) (2.0.7)\n",
            "Requirement already satisfied: certifi>=2017.4.17 in /usr/local/lib/python3.10/dist-packages (from requests<3,>=2->langsmith) (2024.2.2)\n"
          ]
        }
      ],
      "source": [
        "pip install langsmith"
      ]
    },
    {
      "cell_type": "code",
      "execution_count": null,
      "metadata": {
        "colab": {
          "base_uri": "https://localhost:8080/"
        },
        "id": "r6X6xS3xGktz",
        "outputId": "d5bf164f-571d-4ace-b832-754674e25c4f"
      },
      "outputs": [
        {
          "name": "stdout",
          "output_type": "stream",
          "text": [
            "Collecting langchain_openai\n",
            "  Downloading langchain_openai-0.1.1-py3-none-any.whl (32 kB)\n",
            "Requirement already satisfied: langchain_core in /usr/local/lib/python3.10/dist-packages (0.1.40)\n",
            "Requirement already satisfied: openai<2.0.0,>=1.10.0 in /usr/local/lib/python3.10/dist-packages (from langchain_openai) (1.16.2)\n",
            "Requirement already satisfied: tiktoken<1,>=0.5.2 in /usr/local/lib/python3.10/dist-packages (from langchain_openai) (0.6.0)\n",
            "Requirement already satisfied: PyYAML>=5.3 in /usr/local/lib/python3.10/dist-packages (from langchain_core) (6.0.1)\n",
            "Requirement already satisfied: jsonpatch<2.0,>=1.33 in /usr/local/lib/python3.10/dist-packages (from langchain_core) (1.33)\n",
            "Requirement already satisfied: langsmith<0.2.0,>=0.1.0 in /usr/local/lib/python3.10/dist-packages (from langchain_core) (0.1.40)\n",
            "Requirement already satisfied: packaging<24.0,>=23.2 in /usr/local/lib/python3.10/dist-packages (from langchain_core) (23.2)\n",
            "Requirement already satisfied: pydantic<3,>=1 in /usr/local/lib/python3.10/dist-packages (from langchain_core) (2.6.4)\n",
            "Requirement already satisfied: tenacity<9.0.0,>=8.1.0 in /usr/local/lib/python3.10/dist-packages (from langchain_core) (8.2.3)\n",
            "Requirement already satisfied: jsonpointer>=1.9 in /usr/local/lib/python3.10/dist-packages (from jsonpatch<2.0,>=1.33->langchain_core) (2.4)\n",
            "Requirement already satisfied: orjson<4.0.0,>=3.9.14 in /usr/local/lib/python3.10/dist-packages (from langsmith<0.2.0,>=0.1.0->langchain_core) (3.10.0)\n",
            "Requirement already satisfied: requests<3,>=2 in /usr/local/lib/python3.10/dist-packages (from langsmith<0.2.0,>=0.1.0->langchain_core) (2.31.0)\n",
            "Requirement already satisfied: anyio<5,>=3.5.0 in /usr/local/lib/python3.10/dist-packages (from openai<2.0.0,>=1.10.0->langchain_openai) (3.7.1)\n",
            "Requirement already satisfied: distro<2,>=1.7.0 in /usr/lib/python3/dist-packages (from openai<2.0.0,>=1.10.0->langchain_openai) (1.7.0)\n",
            "Requirement already satisfied: httpx<1,>=0.23.0 in /usr/local/lib/python3.10/dist-packages (from openai<2.0.0,>=1.10.0->langchain_openai) (0.27.0)\n",
            "Requirement already satisfied: sniffio in /usr/local/lib/python3.10/dist-packages (from openai<2.0.0,>=1.10.0->langchain_openai) (1.3.1)\n",
            "Requirement already satisfied: tqdm>4 in /usr/local/lib/python3.10/dist-packages (from openai<2.0.0,>=1.10.0->langchain_openai) (4.66.2)\n",
            "Requirement already satisfied: typing-extensions<5,>=4.7 in /usr/local/lib/python3.10/dist-packages (from openai<2.0.0,>=1.10.0->langchain_openai) (4.10.0)\n",
            "Requirement already satisfied: annotated-types>=0.4.0 in /usr/local/lib/python3.10/dist-packages (from pydantic<3,>=1->langchain_core) (0.6.0)\n",
            "Requirement already satisfied: pydantic-core==2.16.3 in /usr/local/lib/python3.10/dist-packages (from pydantic<3,>=1->langchain_core) (2.16.3)\n",
            "Requirement already satisfied: regex>=2022.1.18 in /usr/local/lib/python3.10/dist-packages (from tiktoken<1,>=0.5.2->langchain_openai) (2023.12.25)\n",
            "Requirement already satisfied: idna>=2.8 in /usr/local/lib/python3.10/dist-packages (from anyio<5,>=3.5.0->openai<2.0.0,>=1.10.0->langchain_openai) (3.6)\n",
            "Requirement already satisfied: exceptiongroup in /usr/local/lib/python3.10/dist-packages (from anyio<5,>=3.5.0->openai<2.0.0,>=1.10.0->langchain_openai) (1.2.0)\n",
            "Requirement already satisfied: certifi in /usr/local/lib/python3.10/dist-packages (from httpx<1,>=0.23.0->openai<2.0.0,>=1.10.0->langchain_openai) (2024.2.2)\n",
            "Requirement already satisfied: httpcore==1.* in /usr/local/lib/python3.10/dist-packages (from httpx<1,>=0.23.0->openai<2.0.0,>=1.10.0->langchain_openai) (1.0.5)\n",
            "Requirement already satisfied: h11<0.15,>=0.13 in /usr/local/lib/python3.10/dist-packages (from httpcore==1.*->httpx<1,>=0.23.0->openai<2.0.0,>=1.10.0->langchain_openai) (0.14.0)\n",
            "Requirement already satisfied: charset-normalizer<4,>=2 in /usr/local/lib/python3.10/dist-packages (from requests<3,>=2->langsmith<0.2.0,>=0.1.0->langchain_core) (3.3.2)\n",
            "Requirement already satisfied: urllib3<3,>=1.21.1 in /usr/local/lib/python3.10/dist-packages (from requests<3,>=2->langsmith<0.2.0,>=0.1.0->langchain_core) (2.0.7)\n",
            "Installing collected packages: langchain_openai\n",
            "Successfully installed langchain_openai-0.1.1\n"
          ]
        }
      ],
      "source": [
        "pip install langchain_openai langchain_core"
      ]
    },
    {
      "cell_type": "code",
      "execution_count": null,
      "metadata": {
        "colab": {
          "base_uri": "https://localhost:8080/"
        },
        "id": "JNbNZijHKPp2",
        "outputId": "288e95ec-4e52-4e4f-8351-23c76796fa7d"
      },
      "outputs": [
        {
          "name": "stdout",
          "output_type": "stream",
          "text": [
            "Collecting python-dotenv\n",
            "  Downloading python_dotenv-1.0.1-py3-none-any.whl (19 kB)\n",
            "Installing collected packages: python-dotenv\n",
            "Successfully installed python-dotenv-1.0.1\n"
          ]
        }
      ],
      "source": [
        "pip install python-dotenv"
      ]
    },
    {
      "cell_type": "code",
      "execution_count": null,
      "metadata": {
        "id": "wlXY4ZYFGkw3"
      },
      "outputs": [],
      "source": [
        "import os\n",
        "import nest_asyncio\n",
        "from dotenv import find_dotenv,load_dotenv\n",
        "from langsmith import Client\n",
        "from langchain.smith import RunEvalConfig,run_on_dataset"
      ]
    },
    {
      "cell_type": "code",
      "execution_count": null,
      "metadata": {
        "colab": {
          "base_uri": "https://localhost:8080/"
        },
        "id": "vy-Txw9fGkzs",
        "outputId": "d0ec7266-1309-4bf5-fe6c-822844cd188c"
      },
      "outputs": [
        {
          "data": {
            "text/plain": [
              "False"
            ]
          },
          "execution_count": 23,
          "metadata": {},
          "output_type": "execute_result"
        }
      ],
      "source": [
        "load_dotenv(find_dotenv())"
      ]
    },
    {
      "cell_type": "code",
      "execution_count": null,
      "metadata": {
        "id": "b3wBd7vFGQpl"
      },
      "outputs": [],
      "source": [
        "os.environ[\"LANGCHAIN_API_KEY\"]=\" \""
      ]
    },
    {
      "cell_type": "code",
      "execution_count": null,
      "metadata": {
        "id": "6WgFEURYGQw0"
      },
      "outputs": [],
      "source": [
        "os.environ[\"LANGCHAIN_TRACING_V2\"]=\"true\"\n",
        "os.environ[\"LANGCHAIN_ENDPOINT\"]=\"https://api.smith.langchain.com\"\n",
        "os.environ[\"LANGCHAIN_PROJECT\"]=\"hospital_agent\"\n"
      ]
    },
    {
      "cell_type": "code",
      "execution_count": null,
      "metadata": {
        "id": "mFL82FlcNpEQ"
      },
      "outputs": [],
      "source": [
        "from langsmith import Client"
      ]
    },
    {
      "cell_type": "code",
      "execution_count": null,
      "metadata": {
        "id": "lBKPe3FsNj2P"
      },
      "outputs": [],
      "source": [
        "client=Client()"
      ]
    },
    {
      "cell_type": "code",
      "execution_count": null,
      "metadata": {
        "id": "W4a5T0GOOEXZ"
      },
      "outputs": [],
      "source": [
        "llm=OpenAI(temperature=0)"
      ]
    },
    {
      "cell_type": "code",
      "execution_count": null,
      "metadata": {
        "colab": {
          "base_uri": "https://localhost:8080/"
        },
        "id": "k6qci7LtTWLM",
        "outputId": "aa78c5f4-dc1d-4c84-88bd-cafc0c260316"
      },
      "outputs": [
        {
          "name": "stderr",
          "output_type": "stream",
          "text": [
            "/usr/local/lib/python3.10/dist-packages/langchain_core/_api/deprecation.py:117: LangChainDeprecationWarning: The class `langchain_community.llms.openai.OpenAI` was deprecated in langchain-community 0.0.10 and will be removed in 0.2.0. An updated version of the class exists in the langchain-openai package and should be used instead. To use it run `pip install -U langchain-openai` and import as `from langchain_openai import OpenAI`.\n",
            "  warn_deprecated(\n",
            "/usr/local/lib/python3.10/dist-packages/langchain_core/_api/deprecation.py:117: LangChainDeprecationWarning: The function `initialize_agent` was deprecated in LangChain 0.1.0 and will be removed in 0.2.0. Use Use new agent constructor methods like create_react_agent, create_json_agent, create_structured_chat_agent, etc. instead.\n",
            "  warn_deprecated(\n"
          ]
        }
      ],
      "source": [
        "import os\n",
        "import smtplib\n",
        "import pandas as pd\n",
        "from langchain.llms import OpenAI\n",
        "from langchain.tools import Tool\n",
        "from langchain.agents import initialize_agent\n",
        "from langchain_community.utilities import GoogleSearchAPIWrapper\n",
        "\n",
        "# Initialize the GoogleSearchAPIWrapper\n",
        "search = GoogleSearchAPIWrapper()\n",
        "\n",
        "def google_wrapper(input_text):\n",
        "    search_results = search.run(f\"https://www.webmd.com/ {input_text}\")\n",
        "    return search_results\n",
        "\n",
        "class HospitalEmailAgent:\n",
        "    def __init__(self, df_path):\n",
        "        self.df = pd.read_excel(df_path)\n",
        "        self.intermediate_steps = [] # To track the steps taken by the agent\n",
        "\n",
        "    def select_hospitals(self, disease):\n",
        "        filtered_df = self.df[self.df['Disease'] == disease]\n",
        "        if filtered_df.empty:\n",
        "            return None\n",
        "        print(\"Hospitals for {}:\".format(disease))\n",
        "        for index, row in filtered_df.iterrows():\n",
        "            print(f\"{index + 1}. {row['Hospital name']}\")\n",
        "            self.intermediate_steps.append((\"select_hospitals\", row['Hospital name'])) # Record the action\n",
        "        return filtered_df\n",
        "\n",
        "    def send_email(self, to_email, patient_info, hospital_name):\n",
        "        server = smtplib.SMTP('smtp.gmail.com', 587)\n",
        "        server.starttls()\n",
        "        sender_email = \"rupeshduvvi07@gmail.com\"\n",
        "        sender_password = \"bpjc qyto frsm mujc\"\n",
        "        server.login(sender_email, sender_password)\n",
        "        subject = \"Patient Information\"\n",
        "        body = f\"\"\"\n",
        "        Subject: {subject}\n",
        "\n",
        "        Dear {hospital_name},\n",
        "\n",
        "        Please find attached the patient's information.\n",
        "\n",
        "        Patient Name: {patient_info['name']}\n",
        "        Age: {patient_info['age']}\n",
        "        Gender: {patient_info['gender']}\n",
        "        Medical Document: Attached\n",
        "\n",
        "        Best regards,\n",
        "        Your Name\n",
        "        \"\"\"\n",
        "        server.sendmail(sender_email, to_email, body)\n",
        "        server.quit()\n",
        "        self.intermediate_steps.append((\"send_email\", hospital_name)) # Record the action\n",
        "\n",
        "    def process_patient(self, disease):\n",
        "        hospitals_df = self.select_hospitals(disease)\n",
        "        if hospitals_df is not None:\n",
        "            send_email_confirmation = input(\"Do you want to send the email to one of the selected hospitals? (yes/no): \")\n",
        "            if send_email_confirmation.lower() == 'yes':\n",
        "                hospital_name_input = input(\"Enter the name of the hospital you want to send the email to: \")\n",
        "                selected_hospital = hospitals_df[hospitals_df['Hospital name'] == hospital_name_input]\n",
        "                if not selected_hospital.empty:\n",
        "                    hospital_email = selected_hospital.iloc[0]['Email']\n",
        "                    hospital_name = selected_hospital.iloc[0]['Hospital name']\n",
        "                    name = input(\"Enter the patient's name: \")\n",
        "                    age = input(\"Enter the patient's age: \")\n",
        "                    gender = input(\"Enter the patient's gender: \")\n",
        "                    medical_document = input(\"Enter the path to the medical document: \")\n",
        "                    patient_info = {'name': name, 'age': age, 'gender': gender, 'medical_document': medical_document}\n",
        "                    self.send_email(hospital_email, patient_info, hospital_name)\n",
        "                    print(\"Email sent successfully.\")\n",
        "                else:\n",
        "                    print(\"Hospital not found.\")\n",
        "            else:\n",
        "                print(\"Email not sent.\")\n",
        "        else:\n",
        "            print(\"No hospital found for the specified disease.\")\n",
        "\n",
        "    def get_intermediate_steps(self):\n",
        "        return self.intermediate_steps\n",
        "\n",
        "# Create an instance of the HospitalEmailAgent\n",
        "second_agent = HospitalEmailAgent('/content/dicease2.xlsx')\n",
        "\n",
        "# Define the tools for the second agent\n",
        "agent_tools = [\n",
        "    Tool(\n",
        "        name=\"Search webmd\",\n",
        "        description=\"useful for when you need to answer medical and pharmacological questions and need medicine names and treatments for a particular disease. If you don't know the answer or if there is any irrelevant question,just reponse 'I don't know'.\",\n",
        "        func=google_wrapper,\n",
        "    ),\n",
        "    Tool(\n",
        "        name=\"Search hospitals\",\n",
        "        description=\"useful when need to find hospitals for a specific disease from the dataset given and then take all the patient information and send mail for patient appointment in the hospital chosen by patient.for example if patient ask 'tell me the hospital name for treating Diabetes and book appointment?' it should give all the hospital names related to Diabetes from the dataset.It should perform for all the disease the patient ask for. If you don't know the answer or if there is any irrelevant question,just reponse 'I don't know'.\",\n",
        "        func=second_agent.process_patient, # Use the method of the second_agent instance\n",
        "    )\n",
        "]\n",
        "\n",
        "# Initialize the second agent with the defined tools\n",
        "agent = initialize_agent(\n",
        "    agent_tools,\n",
        "    OpenAI(temperature=0),\n",
        "    agent=\"zero-shot-react-description\",\n",
        "    verbose=True,\n",
        "    max_iterations=1\n",
        ")\n"
      ]
    },
    {
      "cell_type": "code",
      "execution_count": null,
      "metadata": {
        "colab": {
          "base_uri": "https://localhost:8080/"
        },
        "id": "rz7gJBsxTe8A",
        "outputId": "85afc74a-07d8-4b1d-ab0f-f75c89dc7ac9"
      },
      "outputs": [
        {
          "name": "stderr",
          "output_type": "stream",
          "text": [
            "/usr/local/lib/python3.10/dist-packages/langchain_core/_api/deprecation.py:117: LangChainDeprecationWarning: The function `run` was deprecated in LangChain 0.1.0 and will be removed in 0.2.0. Use invoke instead.\n",
            "  warn_deprecated(\n"
          ]
        },
        {
          "name": "stdout",
          "output_type": "stream",
          "text": [
            "\n",
            "\n",
            "\u001b[1m> Entering new AgentExecutor chain...\u001b[0m\n",
            "\u001b[32;1m\u001b[1;3m This question is not related to medical or pharmacological information.\n",
            "Action: I don't know\n",
            "Final Answer: I don't know\u001b[0m\n",
            "\n",
            "\u001b[1m> Finished chain.\u001b[0m\n",
            "I don't know\n"
          ]
        }
      ],
      "source": [
        "query = \"tell me distance between kolkata and hyderabad \"\n",
        "result = second_agent.run({\"input\":query,\"agent_scratchpad\":[]})\n",
        "print(result)"
      ]
    },
    {
      "cell_type": "code",
      "execution_count": null,
      "metadata": {
        "colab": {
          "base_uri": "https://localhost:8080/"
        },
        "id": "N81LIClvTi3B",
        "outputId": "60b88408-40b9-460a-cf99-30fae5423a82"
      },
      "outputs": [
        {
          "name": "stdout",
          "output_type": "stream",
          "text": [
            "\n",
            "\n",
            "\u001b[1m> Entering new AgentExecutor chain...\u001b[0m\n",
            "\u001b[32;1m\u001b[1;3m I don't know\n",
            "Final Answer: I don't know\u001b[0m\n",
            "\n",
            "\u001b[1m> Finished chain.\u001b[0m\n",
            "I don't know\n"
          ]
        }
      ],
      "source": [
        "query = \"Find the nearest pizza place \"\n",
        "result = second_agent.run({\"input\":query,\"agent_scratchpad\":[]})\n",
        "print(result)"
      ]
    },
    {
      "cell_type": "code",
      "execution_count": null,
      "metadata": {
        "id": "oeXDP-kuIpzh"
      },
      "outputs": [],
      "source": [
        "query = \"Could you please provide information about hospitals that specialize in treating Heart Disease? Additionally, I'd like to schedule an appointment.\"\n",
        "result = second_agent.run({\"input\":query,\"agent_scratchpad\":[]})\n",
        "print(result)"
      ]
    },
    {
      "cell_type": "code",
      "execution_count": null,
      "metadata": {
        "id": "vPZ4x0FuhIwQ"
      },
      "outputs": [],
      "source": [
        "import os\n",
        "import smtplib\n",
        "import pandas as pd\n",
        "from langchain.llms import OpenAI\n",
        "from langchain.tools import Tool\n",
        "from langchain.agents import initialize_agent\n",
        "from langchain_community.utilities import GoogleSearchAPIWrapper\n",
        "\n",
        "# Initialize the GoogleSearchAPIWrapper\n",
        "search = GoogleSearchAPIWrapper()\n",
        "\n",
        "def google_wrapper(input_text):\n",
        "    search_results = search.run(f\"https://www.webmd.com/ {input_text}\")\n",
        "    return search_results\n",
        "\n",
        "class HospitalEmailAgent:\n",
        "    def __init__(self, df_path):\n",
        "        self.df = pd.read_excel(df_path)\n",
        "        self.intermediate_steps = [] # To track the steps taken by the agent\n",
        "\n",
        "    def select_hospitals(self, disease):\n",
        "        filtered_df = self.df[self.df['Disease'] == disease]\n",
        "        if filtered_df.empty:\n",
        "            return None\n",
        "        print(\"Hospitals for {}:\".format(disease))\n",
        "        for index, row in filtered_df.iterrows():\n",
        "            print(f\"{index + 1}. {row['Hospital name']}\")\n",
        "            self.intermediate_steps.append((\"select_hospitals\", row['Hospital name'])) # Record the action\n",
        "        return filtered_df\n",
        "\n",
        "    def send_email(self, to_email, patient_info, hospital_name):\n",
        "        server = smtplib.SMTP('smtp.gmail.com', 587)\n",
        "        server.starttls()\n",
        "        sender_email = \"rupeshduvvi07@gmail.com\"\n",
        "        sender_password = \"bpjc qyto frsm mujc\"\n",
        "        server.login(sender_email, sender_password)\n",
        "        subject = \"Patient Information\"\n",
        "        body = f\"\"\"\n",
        "        Subject: {subject}\n",
        "\n",
        "        Dear {hospital_name},\n",
        "\n",
        "        Please find attached the patient's information.\n",
        "\n",
        "        Patient Name: {patient_info['name']}\n",
        "        Age: {patient_info['age']}\n",
        "        Gender: {patient_info['gender']}\n",
        "        Medical Document: Attached\n",
        "\n",
        "        Best regards,\n",
        "        Your Name\n",
        "        \"\"\"\n",
        "        server.sendmail(sender_email, to_email, body)\n",
        "        server.quit()\n",
        "        self.intermediate_steps.append((\"send_email\", hospital_name)) # Record the action\n",
        "\n",
        "    def process_patient(self, disease):\n",
        "        hospitals_df = self.select_hospitals(disease)\n",
        "        if hospitals_df is not None:\n",
        "            send_email_confirmation = input(\"Do you want to send the email to one of the selected hospitals? (yes/no): \")\n",
        "            if send_email_confirmation.lower() == 'yes':\n",
        "                hospital_name_input = input(\"Enter the name of the hospital you want to send the email to: \")\n",
        "                selected_hospital = hospitals_df[hospitals_df['Hospital name'] == hospital_name_input]\n",
        "                if not selected_hospital.empty:\n",
        "                    hospital_email = selected_hospital.iloc[0]['Email']\n",
        "                    hospital_name = selected_hospital.iloc[0]['Hospital name']\n",
        "                    name = input(\"Enter the patient's name: \")\n",
        "                    age = input(\"Enter the patient's age: \")\n",
        "                    gender = input(\"Enter the patient's gender: \")\n",
        "                    medical_document = input(\"Enter the path to the medical document: \")\n",
        "                    patient_info = {'name': name, 'age': age, 'gender': gender, 'medical_document': medical_document}\n",
        "                    self.send_email(hospital_email, patient_info, hospital_name)\n",
        "                    print(\"Email sent successfully.\")\n",
        "                else:\n",
        "                    print(\"Hospital not found.\")\n",
        "            else:\n",
        "                print(\"Email not sent.\")\n",
        "        else:\n",
        "            print(\"No hospital found for the specified disease.\")\n",
        "\n",
        "    def get_intermediate_steps(self):\n",
        "        return self.intermediate_steps\n",
        "\n",
        "# Create an instance of the HospitalEmailAgent\n",
        "second_agent = HospitalEmailAgent('/content/dicease2.xlsx')\n",
        "\n",
        "# Define the tools for the second agent\n",
        "agent_tools = [\n",
        "    Tool(\n",
        "        name=\"Search webmd\",\n",
        "        description=\"useful for when you need to answer medical and pharmacological questions and need medicine names and treatments for a particular disease. If you don't know the answer or if there is any irrelevant question,just reponse 'I don't know'.\",\n",
        "        func=google_wrapper,\n",
        "    ),\n",
        "    Tool(\n",
        "        name=\"Search hospitals\",\n",
        "        description=\"useful when need to find hospitals for a specific disease from the dataset given and then take all the patient information and send mail for patient appointment in the hospital chosen by patient.for example if patient ask 'tell me the hospital name for treating Diabetes and book appointment?' it should give all the hospital names related to Diabetes from the dataset.It should perform for all the disease the patient ask for. If you don't know the answer or if there is any irrelevant question,just reponse 'I don't know'.\",\n",
        "        func=second_agent.process_patient, # Use the method of the second_agent instance\n",
        "    )\n",
        "]\n",
        "\n",
        "# Initialize the second agent with the defined tools\n",
        "agent = initialize_agent(\n",
        "    agent_tools,\n",
        "    OpenAI(temperature=0),\n",
        "    agent=\"zero-shot-react-description\",\n",
        "    verbose=True,\n",
        "    max_iterations=1\n",
        ")\n"
      ]
    },
    {
      "cell_type": "code",
      "execution_count": null,
      "metadata": {
        "colab": {
          "base_uri": "https://localhost:8080/"
        },
        "id": "UKLsMSmiLTuw",
        "outputId": "91885cbc-dd50-47c9-b40b-88979502ba10"
      },
      "outputs": [
        {
          "name": "stdout",
          "output_type": "stream",
          "text": [
            "Evaluation Results:\n",
            "{'accuracy': 100.0, 'average_response_time': 5.9416810989379885, 'total_time': 11.191400527954102}\n"
          ]
        }
      ],
      "source": [
        "import time\n",
        "import pandas as pd\n",
        "import smtplib\n",
        "\n",
        "# Assuming your HospitalEmailAgent class is defined here\n",
        "import time\n",
        "class HospitalEmailAgent:\n",
        "    def __init__(self, df_path):\n",
        "        self.df = pd.read_excel(df_path)\n",
        "        self.intermediate_steps = [] # To track the steps taken by the agent\n",
        "\n",
        "    def select_hospitals(self, disease):\n",
        "        filtered_df = self.df[self.df['Disease'] == disease]\n",
        "        if filtered_df.empty:\n",
        "            return None\n",
        "        print(\"Hospitals for {}:\".format(disease))\n",
        "        for index, row in filtered_df.iterrows():\n",
        "            print(f\"{index + 1}. {row['Hospital name']}\")\n",
        "            self.intermediate_steps.append((\"select_hospitals\", row['Hospital name'])) # Record the action\n",
        "        return filtered_df\n",
        "\n",
        "    def send_email(self, to_email, patient_info, hospital_name):\n",
        "        server = smtplib.SMTP('smtp.gmail.com', 587)\n",
        "        server.starttls()\n",
        "        sender_email = \" \"\n",
        "        sender_password = \" \"\n",
        "        server.login(sender_email, sender_password)\n",
        "        subject = \"Patient Information\"\n",
        "        body = f\"\"\"\n",
        "        Subject: {subject}\n",
        "\n",
        "        Dear {hospital_name},\n",
        "\n",
        "        Please find attached the patient's information.\n",
        "\n",
        "        Patient Name: {patient_info['name']}\n",
        "        Age: {patient_info['age']}\n",
        "        Gender: {patient_info['gender']}\n",
        "        Medical Document: Attached\n",
        "\n",
        "        Best regards,\n",
        "        Your Name\n",
        "        \"\"\"\n",
        "        server.sendmail(sender_email, to_email, body)\n",
        "        server.quit()\n",
        "        self.intermediate_steps.append((\"send_email\", hospital_name)) # Record the action\n",
        "\n",
        "    def process_patient(self, disease):\n",
        "        hospitals_df = self.select_hospitals(disease)\n",
        "        if hospitals_df is not None:\n",
        "            send_email_confirmation = input(\"Do you want to send the email to one of the selected hospitals? (yes/no): \")\n",
        "            if send_email_confirmation.lower() == 'yes':\n",
        "                hospital_name_input = input(\"Enter the name of the hospital you want to send the email to: \")\n",
        "                selected_hospital = hospitals_df[hospitals_df['Hospital name'] == hospital_name_input]\n",
        "                if not selected_hospital.empty:\n",
        "                    hospital_email = selected_hospital.iloc[0]['Email']\n",
        "                    hospital_name = selected_hospital.iloc[0]['Hospital name']\n",
        "                    name = input(\"Enter the patient's name: \")\n",
        "                    age = input(\"Enter the patient's age: \")\n",
        "                    gender = input(\"Enter the patient's gender: \")\n",
        "                    medical_document = input(\"Enter the path to the medical document: \")\n",
        "                    patient_info = {'name': name, 'age': age, 'gender': gender, 'medical_document': medical_document}\n",
        "                    self.send_email(hospital_email, patient_info, hospital_name)\n",
        "                    print(\"Email sent successfully.\")\n",
        "                else:\n",
        "                    print(\"Hospital not found.\")\n",
        "            else:\n",
        "                print(\"Email not sent.\")\n",
        "        else:\n",
        "            print(\"No hospital found for the specified disease.\")\n",
        "\n",
        "    def get_intermediate_steps(self):\n",
        "        return self.intermediate_steps\n",
        "class AgentExecutor:\n",
        "    def __init__(self, hospital_email_agent):\n",
        "        self.hospital_email_agent = hospital_email_agent\n",
        "\n",
        "    def delegate_send_email(self, to_email, patient_info, hospital_name):\n",
        "        self.hospital_email_agent.send_email(to_email, patient_info, hospital_name)\n",
        "\n",
        "class AgentEvaluator:\n",
        "    def __init__(self, agent_executor, test_data_path):\n",
        "        self.agent_executor = agent_executor\n",
        "        self.test_data_path = test_data_path\n",
        "        self.total_attempts = 0\n",
        "        self.successful_sends = 0\n",
        "        self.response_times = []\n",
        "\n",
        "    def run_evaluation(self):\n",
        "        start_time = time.time()\n",
        "        test_df = pd.read_excel(self.test_data_path)\n",
        "        for index, row in test_df.iterrows():\n",
        "            disease = row['Disease']\n",
        "            hospital_name_input = row['Hospital name']\n",
        "            hospital_email = row['Email']\n",
        "            patient_info = {\n",
        "                'name': row['Patient Name'],\n",
        "                'age': row['Age'],\n",
        "                'gender': row['Gender'],\n",
        "                'medical_document': row['Medical Document']\n",
        "            }\n",
        "            self.total_attempts += 1\n",
        "            try:\n",
        "                self.agent_executor.delegate_send_email(hospital_email, patient_info, hospital_name_input)\n",
        "                self.successful_sends += 1\n",
        "            except Exception as e:\n",
        "                print(f\"Failed to send email: {e}\")\n",
        "            self.response_times.append(time.time() - start_time)\n",
        "        end_time = time.time()\n",
        "        self.total_time = end_time - start_time\n",
        "\n",
        "    def get_evaluation_results(self):\n",
        "        accuracy = (self.successful_sends / self.total_attempts) * 100\n",
        "        average_response_time = sum(self.response_times) / len(self.response_times)\n",
        "        return {\n",
        "            \"accuracy\": accuracy,\n",
        "            \"average_response_time\": average_response_time,\n",
        "            \"total_time\": self.total_time\n",
        "        }\n",
        "\n",
        "# Initialize the HospitalEmailAgent\n",
        "hospital_email_agent = HospitalEmailAgent('/content/dicease2.xlsx')\n",
        "\n",
        "# Initialize the AgentExecutor with the HospitalEmailAgent\n",
        "agent_executor = AgentExecutor(hospital_email_agent)\n",
        "\n",
        "# Assuming your test dataset is saved at '/content/test_disease2.xlsx'\n",
        "test_data_path = '/content/test_data.xlsx'\n",
        "\n",
        "# Initialize the AgentEvaluator with the AgentExecutor and the test dataset path\n",
        "evaluator = AgentEvaluator(agent_executor, test_data_path)\n",
        "\n",
        "# Run the evaluation\n",
        "evaluator.run_evaluation()\n",
        "\n",
        "# Get and print the evaluation results\n",
        "results = evaluator.get_evaluation_results()\n",
        "print(f\"Evaluation Results:\\n{results}\")\n"
      ]
    },
    {
      "cell_type": "code",
      "execution_count": null,
      "metadata": {
        "colab": {
          "base_uri": "https://localhost:8080/"
        },
        "id": "h6SJo-UeLp-8",
        "outputId": "4fe0d731-25c5-4e84-ce44-d9633f4fe92c"
      },
      "outputs": [
        {
          "name": "stdout",
          "output_type": "stream",
          "text": [
            "Evaluation Results:\n",
            "{'accuracy': 100.0, 'average_response_time': 4.629568576812744, 'total_time': 8.798586130142212}\n"
          ]
        }
      ],
      "source": [
        "import time\n",
        "import pandas as pd\n",
        "import smtplib\n",
        "\n",
        "# Assuming your HospitalEmailAgent class is defined here\n",
        "import time\n",
        "class HospitalEmailAgent:\n",
        "    def __init__(self, df_path):\n",
        "        self.df = pd.read_excel(df_path)\n",
        "        self.intermediate_steps = [] # To track the steps taken by the agent\n",
        "\n",
        "    def select_hospitals(self, disease):\n",
        "        filtered_df = self.df[self.df['Disease'] == disease]\n",
        "        if filtered_df.empty:\n",
        "            return None\n",
        "        print(\"Hospitals for {}:\".format(disease))\n",
        "        for index, row in filtered_df.iterrows():\n",
        "            print(f\"{index + 1}. {row['Hospital name']}\")\n",
        "            self.intermediate_steps.append((\"select_hospitals\", row['Hospital name'])) # Record the action\n",
        "        return filtered_df\n",
        "\n",
        "    def send_email(self, to_email, patient_info, hospital_name):\n",
        "        server = smtplib.SMTP('smtp.gmail.com', 587)\n",
        "        server.starttls()\n",
        "        sender_email = \"rupeshduvvi07@gmail.com\"\n",
        "        sender_password = \"bpjc qyto frsm mujc\"\n",
        "        server.login(sender_email, sender_password)\n",
        "        subject = \"Patient Information\"\n",
        "        body = f\"\"\"\n",
        "        Subject: {subject}\n",
        "\n",
        "        Dear {hospital_name},\n",
        "\n",
        "        Please find attached the patient's information.\n",
        "\n",
        "        Patient Name: {patient_info['name']}\n",
        "        Age: {patient_info['age']}\n",
        "        Gender: {patient_info['gender']}\n",
        "        Medical Document: Attached\n",
        "\n",
        "        Best regards,\n",
        "        Your Name\n",
        "        \"\"\"\n",
        "        server.sendmail(sender_email, to_email, body)\n",
        "        server.quit()\n",
        "        self.intermediate_steps.append((\"send_email\", hospital_name)) # Record the action\n",
        "\n",
        "    def process_patient(self, disease):\n",
        "        hospitals_df = self.select_hospitals(disease)\n",
        "        if hospitals_df is not None:\n",
        "            send_email_confirmation = input(\"Do you want to send the email to one of the selected hospitals? (yes/no): \")\n",
        "            if send_email_confirmation.lower() == 'yes':\n",
        "                hospital_name_input = input(\"Enter the name of the hospital you want to send the email to: \")\n",
        "                selected_hospital = hospitals_df[hospitals_df['Hospital name'] == hospital_name_input]\n",
        "                if not selected_hospital.empty:\n",
        "                    hospital_email = selected_hospital.iloc[0]['Email']\n",
        "                    hospital_name = selected_hospital.iloc[0]['Hospital name']\n",
        "                    name = input(\"Enter the patient's name: \")\n",
        "                    age = input(\"Enter the patient's age: \")\n",
        "                    gender = input(\"Enter the patient's gender: \")\n",
        "                    medical_document = input(\"Enter the path to the medical document: \")\n",
        "                    patient_info = {'name': name, 'age': age, 'gender': gender, 'medical_document': medical_document}\n",
        "                    self.send_email(hospital_email, patient_info, hospital_name)\n",
        "                    print(\"Email sent successfully.\")\n",
        "                else:\n",
        "                    print(\"Hospital not found.\")\n",
        "            else:\n",
        "                print(\"Email not sent.\")\n",
        "        else:\n",
        "            print(\"No hospital found for the specified disease.\")\n",
        "\n",
        "    def get_intermediate_steps(self):\n",
        "        return self.intermediate_steps\n",
        "class AgentExecutor:\n",
        "    def __init__(self, hospital_email_agent):\n",
        "        self.hospital_email_agent = hospital_email_agent\n",
        "\n",
        "    def delegate_send_email(self, to_email, patient_info, hospital_name):\n",
        "        self.hospital_email_agent.send_email(to_email, patient_info, hospital_name)\n",
        "\n",
        "class AgentEvaluator:\n",
        "    def __init__(self, agent_executor, test_data_path):\n",
        "        self.agent_executor = agent_executor\n",
        "        self.test_data_path = test_data_path\n",
        "        self.total_attempts = 0\n",
        "        self.successful_sends = 0\n",
        "        self.response_times = []\n",
        "\n",
        "    def run_evaluation(self):\n",
        "        start_time = time.time()\n",
        "        test_df = pd.read_excel(self.test_data_path)\n",
        "        for index, row in test_df.iterrows():\n",
        "            disease = row['Disease']\n",
        "            hospital_name_input = row['Hospital name']\n",
        "            hospital_email = row['Email']\n",
        "            patient_info = {\n",
        "                'name': row['Patient Name'],\n",
        "                'age': row['Age'],\n",
        "                'gender': row['Gender'],\n",
        "                'medical_document': row['Medical Document']\n",
        "            }\n",
        "            self.total_attempts += 1\n",
        "            try:\n",
        "                self.agent_executor.delegate_send_email(hospital_email, patient_info, hospital_name_input)\n",
        "                self.successful_sends += 1\n",
        "            except Exception as e:\n",
        "                print(f\"Failed to send email: {e}\")\n",
        "            self.response_times.append(time.time() - start_time)\n",
        "        end_time = time.time()\n",
        "        self.total_time = end_time - start_time\n",
        "\n",
        "    def get_evaluation_results(self):\n",
        "        accuracy = (self.successful_sends / self.total_attempts) * 100\n",
        "        average_response_time = sum(self.response_times) / len(self.response_times)\n",
        "        return {\n",
        "            \"accuracy\": accuracy,\n",
        "            \"average_response_time\": average_response_time,\n",
        "            \"total_time\": self.total_time\n",
        "        }\n",
        "\n",
        "# Initialize the HospitalEmailAgent\n",
        "hospital_email_agent = HospitalEmailAgent('/content/dicease3.xlsx')\n",
        "\n",
        "# Initialize the AgentExecutor with the HospitalEmailAgent\n",
        "agent_executor = AgentExecutor(hospital_email_agent)\n",
        "\n",
        "# Assuming your test dataset is saved at '/content/test_disease2.xlsx'\n",
        "test_data_path = '/content/test_data.xlsx'\n",
        "\n",
        "# Initialize the AgentEvaluator with the AgentExecutor and the test dataset path\n",
        "evaluator = AgentEvaluator(agent_executor, test_data_path)\n",
        "\n",
        "# Run the evaluation\n",
        "evaluator.run_evaluation()\n",
        "\n",
        "# Get and print the evaluation results\n",
        "results = evaluator.get_evaluation_results()\n",
        "print(f\"Evaluation Results:\\n{results}\")\n"
      ]
    },
    {
      "cell_type": "code",
      "execution_count": null,
      "metadata": {
        "colab": {
          "base_uri": "https://localhost:8080/"
        },
        "id": "hKHHpwNSO2hY",
        "outputId": "da0ac201-5639-42c2-bfe7-e43997121e9a"
      },
      "outputs": [
        {
          "name": "stdout",
          "output_type": "stream",
          "text": [
            "\n",
            "\n",
            "\u001b[1m> Entering new AgentExecutor chain...\u001b[0m\n",
            "\u001b[32;1m\u001b[1;3m I should search webmd for information on COVID-19 Fatigue.\n",
            "Action: Search webmd\n",
            "Action Input: COVID-19 Fatigue\u001b[0m\n",
            "Observation: \u001b[36;1m\u001b[1;3mJan 3, 2023 ... What Does COVID Fatigue Feel Like? · Chronic tiredness or sleepiness · Headaches · Dizziness · Sore or achy muscles · Muscle weakness · Slow reflexes ... May 16, 2011 ... However, after 19 days, the losartan-treated mice had more regenerated muscle and significantly less scar tissue than the untreated animals. Nov 10, 2023 ... The most common symptoms of COVID-19 include: Fever or chills; A dry cough and shortness of breath; Feeling very tired; Muscle or body aches ... Coronavirus (COVID-19): Information for Patient Families. Learn more about the symptoms of Coronavirus (COVID-19), how you can protect your family, and how ... Dec 26, 2022 ... Coronavirus and COVID-19: What You Should Know ... Fatigue; Chills, sometimes with shaking; Body ... See WebMD's COVID News & Resources. man ... Being very thirsty, tired, or having to go to the bathroom a lot may be pretty good clues that you might have developed diabetes. Blurry vision might also be a ... Nov 5, 2023 ... Long COVID (PASC):Some COVID-19 patients have long-term symptoms that can last weeks or months. You may know it as “long COVID,” or ... Oct 23, 2020 ... Feeling tired can be a symptom of heart or kidney damage as a result of high blood pressure. It may also be due to hypertension medications ... Aug 9, 2021 ... If you have COVID-19 ... Some people who've had COVID-19 develop a condition similar to chronic fatigue syndrome. ... See WebMD's COVID News & ... ... fatigue at some point. ... https://www.ncbi.nlm.nih.gov/pubmed/25884274 ... Musician Lance Bass revealed he was diagnosed with diabetes during the COVID-19 lockdown ...\u001b[0m\n",
            "Thought:\u001b[32;1m\u001b[1;3m\u001b[0m\n",
            "\n",
            "\u001b[1m> Finished chain.\u001b[0m\n",
            "Agent stopped due to iteration limit or time limit.\n"
          ]
        }
      ],
      "source": [
        "query = \"What Is COVID-19 Fatigue?\"\n",
        "result = second_agent.run({\"input\":query,\"agent_scratchpad\":[]})\n",
        "print(result)"
      ]
    },
    {
      "cell_type": "code",
      "execution_count": null,
      "metadata": {
        "id": "6sXf9jUqQztZ"
      },
      "outputs": [],
      "source": [
        "from typing import Any, Dict, Optional\n",
        "\n",
        "class HospitalEmailAgentEvaluator:\n",
        "    def __init__(self, order_matters: bool = True):\n",
        "        self.order_matters = order_matters\n",
        "\n",
        "    def evaluate_run(self, run_outputs: Dict[str, Any], example_outputs: Dict[str, Any]) -> Dict[str, Any]:\n",
        "        # Extract the actual steps taken by the agent\n",
        "        if \"intermediate_steps\" in run_outputs:\n",
        "            actual_steps = [action for action, _ in run_outputs[\"intermediate_steps\"]]\n",
        "        elif \"actual_steps\" in run_outputs:\n",
        "            actual_steps = run_outputs[\"actual_steps\"]\n",
        "        else:\n",
        "            raise ValueError(\"Please make sure that your agent outputs 'intermediate_steps or 'actual_steps'\")\n",
        "\n",
        "        # Extract the expected steps from the dataset\n",
        "        expected_steps = example_outputs[\"expected_steps\"]\n",
        "\n",
        "        # Compare the actual steps to the expected steps\n",
        "        if self.order_matters:\n",
        "            trajectory_score = int(actual_steps == expected_steps)\n",
        "        else:\n",
        "            trajectory_score = int(sorted(actual_steps) == sorted(expected_steps))\n",
        "\n",
        "        # Calculate the fraction of steps taken to the expected steps\n",
        "        step_fraction = len(actual_steps) / len(expected_steps)\n",
        "\n",
        "        # Calculate additional metrics\n",
        "        accuracy_rate = len(set(actual_steps) & set(expected_steps)) / len(expected_steps)\n",
        "        coverage_rate = len(set(actual_steps) & set(expected_steps)) / len(actual_steps)\n",
        "        diversity_of_actions = len(set(actual_steps)) / len(actual_steps)\n",
        "\n",
        "        # Prepare the evaluation results\n",
        "        results = {\n",
        "            \"Intermediate steps correctness\": {\"score\": trajectory_score, \"comment\": f\"Order matters={self.order_matters}\"},\n",
        "            \"# steps / # expected steps\": {\"score\": step_fraction},\n",
        "            \"Accuracy Rate\": {\"score\": accuracy_rate},\n",
        "            \"Coverage Rate\": {\"score\": coverage_rate},\n",
        "            \"Diversity of Actions\": {\"score\": diversity_of_actions},\n",
        "        }\n",
        "\n",
        "        return results\n"
      ]
    },
    {
      "cell_type": "code",
      "execution_count": null,
      "metadata": {
        "colab": {
          "base_uri": "https://localhost:8080/"
        },
        "id": "_gYV4uKPghtw",
        "outputId": "4097d751-29a9-424d-b201-614547f43728"
      },
      "outputs": [
        {
          "name": "stdout",
          "output_type": "stream",
          "text": [
            "Intermediate steps correctness: 1 (Order matters=True)\n",
            "# steps / # expected steps: 1.0 ()\n",
            "Accuracy Rate: 1.0 ()\n",
            "Coverage Rate: 1.0 ()\n",
            "Diversity of Actions: 1.0 ()\n"
          ]
        }
      ],
      "source": [
        "# Example of run_outputs extracted from the agent's output\n",
        "run_outputs = {\n",
        "    \"intermediate_steps\": [\n",
        "        (\"Search hospitals\", \"Heart Disease\"),\n",
        "        (\"send_email\", \"Cleveland Clinic Heart and Vascular Institute\")\n",
        "    ],\n",
        "\n",
        "}\n",
        "\n",
        "# Example of example_outputs\n",
        "example_outputs = {\n",
        "    \"expected_steps\": [\n",
        "        \"Search hospitals\",\n",
        "        \"send_email\"\n",
        "    ],\n",
        "    \"order_matters\": True\n",
        "}\n",
        "\n",
        "# Initialize the evaluator\n",
        "evaluator = HospitalEmailAgentEvaluator()\n",
        "\n",
        "# Evaluate the agent's performance\n",
        "evaluation_results = evaluator.evaluate_run(run_outputs, example_outputs)\n",
        "\n",
        "# Print the evaluation results\n",
        "for key, result in evaluation_results.items():\n",
        "    print(f\"{key}: {result['score']} ({result.get('comment', '')})\")\n"
      ]
    },
    {
      "cell_type": "markdown",
      "metadata": {
        "id": "T-nS4PirlCpy"
      },
      "source": []
    },
    {
      "cell_type": "code",
      "execution_count": null,
      "metadata": {
        "id": "nIBxObTmhq2I"
      },
      "outputs": [],
      "source": []
    }
  ],
  "metadata": {
    "colab": {
      "provenance": []
    },
    "kernelspec": {
      "display_name": "Python 3",
      "name": "python3"
    },
    "language_info": {
      "name": "python"
    }
  },
  "nbformat": 4,
  "nbformat_minor": 0
}
